{
  "nbformat": 4,
  "nbformat_minor": 0,
  "metadata": {
    "colab": {
      "name": "Algoritmos de Classificação.ipynb",
      "provenance": [],
      "collapsed_sections": [],
      "authorship_tag": "ABX9TyNgy5zrOGUmYC8Zg6axvozv",
      "include_colab_link": true
    },
    "kernelspec": {
      "name": "python3",
      "display_name": "Python 3"
    },
    "language_info": {
      "name": "python"
    }
  },
  "cells": [
    {
      "cell_type": "markdown",
      "metadata": {
        "id": "view-in-github",
        "colab_type": "text"
      },
      "source": [
        "<a href=\"https://colab.research.google.com/github/Leonardoliveira/Algoritmos_De_Machine_Learning/blob/main/Algoritmos_de_Classifica%C3%A7%C3%A3o.ipynb\" target=\"_parent\"><img src=\"https://colab.research.google.com/assets/colab-badge.svg\" alt=\"Open In Colab\"/></a>"
      ]
    },
    {
      "cell_type": "markdown",
      "source": [
        "# Algoritmos de classificação"
      ],
      "metadata": {
        "id": "gJ4pnFiUK-QU"
      }
    },
    {
      "cell_type": "code",
      "source": [
        "#Importando as bibliotecas\n",
        "from sklearn.naive_bayes import MultinomialNB"
      ],
      "metadata": {
        "id": "v6_hHMUQMjwA"
      },
      "execution_count": 9,
      "outputs": []
    },
    {
      "cell_type": "code",
      "execution_count": 10,
      "metadata": {
        "id": "C4VUz4pmKWri"
      },
      "outputs": [],
      "source": [
        "#Criando os exemplos de aprendizado\n",
        "#Se é gordinho? Tem perna curta? Late?\n",
        "porco1 = [1, 1, 1]\n",
        "porco2 = [1, 1, 0]\n",
        "porco3 = [1, 1, 0]\n",
        "cachorro1 = [1, 1, 1]\n",
        "cachorro2 = [0, 1, 1]\n",
        "cachorro3 = [0, 1, 1]"
      ]
    },
    {
      "cell_type": "code",
      "source": [
        "#Criando um dataset com os modelos\n",
        "dados = [porco1, porco2, porco3, cachorro1, cachorro2, cachorro3]\n",
        "\n",
        "#criando as marcações\n",
        "marcacoes = [1, 1, 1, -1, -1, -1]\n",
        "\n",
        "misterioso1 = [1, 1, 1]\n",
        "misterioso2 = [1, 0, 0]\n",
        "misterioso3 = [0, 0, 0]\n",
        "teste = [misterioso1, misterioso2, misterioso3]\n",
        "#criando modelo\n",
        "modelo = MultinomialNB()\n",
        "\n",
        "#treinando modelo\n",
        "modelo.fit(dados, marcacoes)\n",
        "\n",
        "#fazendo a predição\n",
        "modelo.predict(teste)"
      ],
      "metadata": {
        "colab": {
          "base_uri": "https://localhost:8080/"
        },
        "id": "b_i2hiyQLIz1",
        "outputId": "b282c154-6b36-49dc-ee62-ee124a8e4d0d"
      },
      "execution_count": 18,
      "outputs": [
        {
          "output_type": "execute_result",
          "data": {
            "text/plain": [
              "array([-1,  1, -1])"
            ]
          },
          "metadata": {},
          "execution_count": 18
        }
      ]
    }
  ]
}