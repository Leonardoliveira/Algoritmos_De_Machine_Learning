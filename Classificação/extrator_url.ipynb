{
  "nbformat": 4,
  "nbformat_minor": 0,
  "metadata": {
    "colab": {
      "name": "extrator_url.ipynb",
      "provenance": []
    },
    "kernelspec": {
      "name": "python3",
      "display_name": "Python 3"
    },
    "language_info": {
      "name": "python"
    }
  },
  "cells": [
    {
      "cell_type": "code",
      "execution_count": 25,
      "metadata": {
        "colab": {
          "base_uri": "https://localhost:8080/"
        },
        "id": "hMLv_SqD22Y4",
        "outputId": "dbcbcfce-3b7f-4054-b375-67c340b84e57"
      },
      "outputs": [
        {
          "output_type": "stream",
          "name": "stdout",
          "text": [
            "bytebank.com/cambio?moedaOrigem=real\n",
            "bytebank.com/cambio\n",
            "moedaOrigem=real\n",
            "real\n"
          ]
        }
      ],
      "source": [
        "#criando extrator para url\n",
        "\n",
        "url = 'bytebank.com/cambio?moedaOrigem=real'\n",
        "#url = ' '\n",
        "print(url)\n",
        "\n",
        "#sanitização da url\n",
        "url = url.strip()\n",
        "\n",
        "#validando se a url vem vazia\n",
        "if url == '':\n",
        "  raise ValueError(\"A URL está vazia.\")\n",
        "\n",
        "#usando metodo find\n",
        "indice_interrogacao = url.find('?')\n",
        "url_base =url[:indice_interrogacao]\n",
        "print(url_base)\n",
        "\n",
        "url_param = url[indice_interrogacao + 1:]\n",
        "print(url_param)\n",
        "\n",
        "#extraindo parametro ao final da url\n",
        "param_busca = 'moedaOrigem'\n",
        "indice_param = url_param.find(param_busca)\n",
        "indice_valor = indice_param + len(param_busca) + 1\n",
        "indice_e_comercial = url_param.find('&', indice_valor)\n",
        "if indice_e_comercial ==-1:\n",
        "  valor = url_param[indice_valor:]\n",
        "else:\n",
        "  valor = url_param[indice_valor:indice_e_comercial]\n",
        "\n",
        "print(valor)\n"
      ]
    },
    {
      "cell_type": "code",
      "source": [
        "#criando a classe\n",
        "\n",
        "import re\n",
        "\n",
        "\n",
        "class ExtratorURL:\n",
        "    def __init__(self, url):\n",
        "        self.url = self.sanitiza_url(url)\n",
        "        self.valida_url()\n",
        "\n",
        "    def sanitiza_url(self, url):\n",
        "        if type(url) == str:\n",
        "            return url.strip()\n",
        "        else:\n",
        "            return \"\"\n",
        "\n",
        "    def valida_url(self):\n",
        "        if not self.url:\n",
        "            raise ValueError(\"A URL está vazia\")\n",
        "\n",
        "        padrao_url = re.compile('(http(s)?://)?(www.)?bytebank.com(.br)?/cambio')\n",
        "        match = padrao_url.match(url)\n",
        "        if not match:\n",
        "            raise ValueError(\"A URL não é válida.\")\n",
        "\n",
        "    def get_url_base(self):\n",
        "        indice_interrogacao = self.url.find('?')\n",
        "        url_base = self.url[:indice_interrogacao]\n",
        "        return url_base\n",
        "\n",
        "    def get_url_parametros(self):\n",
        "        indice_interrogacao = self.url.find('?')\n",
        "        url_parametros = self.url[indice_interrogacao + 1:]\n",
        "        return url_parametros\n",
        "\n",
        "    def get_valor_parametro(self, parametro_busca):\n",
        "        indice_parametro = self.get_url_parametros().find(parametro_busca)\n",
        "        indice_valor = indice_parametro + len(parametro_busca) + 1\n",
        "        indice_e_comercial = self.get_url_parametros().find('&', indice_valor)\n",
        "        if indice_e_comercial == -1:\n",
        "            valor = self.get_url_parametros()[indice_valor:]\n",
        "        else:\n",
        "            valor = self.get_url_parametros()[indice_valor:indice_e_comercial]\n",
        "        return valor\n",
        "\n",
        "    def __len__(self):\n",
        "        return len(self.url)\n",
        "\n",
        "    def __str__(self):\n",
        "        return self.url + \"\\n\" + \"Parâmetros: \" + self.get_url_parametros() + \"\\n\" + \"URL Base: \" + self.get_url_base()\n",
        "\n",
        "    def __eq__(self, other):\n",
        "        return self.url == other.url\n",
        "\n",
        "url = \"bytebank.com/cambio?quantidade=100&moedaOrigem=real&moedaDestino=dolar\"\n",
        "extrator_url = ExtratorURL(url)\n",
        "extrator_url_2 = ExtratorURL(url)\n",
        "\n",
        "print(id(extrator_url))\n",
        "print(id(extrator_url_2))\n",
        "\n",
        "# print(extrator_url == etrator_url_2)"
      ],
      "metadata": {
        "colab": {
          "base_uri": "https://localhost:8080/"
        },
        "id": "Y5xBemDk3Jct",
        "outputId": "a67e9838-1746-4922-dd51-ee0f9bd1eea0"
      },
      "execution_count": 42,
      "outputs": [
        {
          "output_type": "stream",
          "name": "stdout",
          "text": [
            "139678896577744\n",
            "139678896577424\n"
          ]
        }
      ]
    },
    {
      "cell_type": "code",
      "source": [
        "#expressõs regulares\n",
        "import re \n",
        "endereco = \"Rua Galvão Bueno,173 01244569\"\n",
        "padrao = re.compile(\"[0-9]{5}[-]{0,1}[0-9]{3}\")\n",
        "busca = padrao.search(endereco) #\n",
        "if busca:\n",
        "  cep = busca.group()\n",
        "  print(cep)"
      ],
      "metadata": {
        "colab": {
          "base_uri": "https://localhost:8080/"
        },
        "id": "TQWR-YXKIK2q",
        "outputId": "54df38cc-27f5-4c8d-d2a5-3df1ec81cb66"
      },
      "execution_count": 37,
      "outputs": [
        {
          "output_type": "stream",
          "name": "stdout",
          "text": [
            "01244569\n"
          ]
        }
      ]
    }
  ]
}