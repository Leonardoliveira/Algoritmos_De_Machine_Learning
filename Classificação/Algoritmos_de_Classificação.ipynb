{
  "nbformat": 4,
  "nbformat_minor": 0,
  "metadata": {
    "colab": {
      "name": "Algoritmos de Classificação.ipynb",
      "provenance": [],
      "collapsed_sections": []
    },
    "kernelspec": {
      "name": "python3",
      "display_name": "Python 3"
    },
    "language_info": {
      "name": "python"
    }
  },
  "cells": [
    {
      "cell_type": "markdown",
      "source": [
        "# Algoritmos de classificação"
      ],
      "metadata": {
        "id": "gJ4pnFiUK-QU"
      }
    },
    {
      "cell_type": "code",
      "source": [
        "#Importando as bibliotecas\n",
        "from sklearn.naive_bayes import MultinomialNB"
      ],
      "metadata": {
        "id": "v6_hHMUQMjwA"
      },
      "execution_count": null,
      "outputs": []
    },
    {
      "cell_type": "code",
      "execution_count": null,
      "metadata": {
        "id": "C4VUz4pmKWri"
      },
      "outputs": [],
      "source": [
        "#Criando os exemplos de aprendizado\n",
        "#Se é gordinho? Tem perna curta? Late?\n",
        "porco1 = [1, 1, 1]\n",
        "porco2 = [1, 1, 0]\n",
        "porco3 = [1, 1, 0]\n",
        "cachorro1 = [1, 1, 1]\n",
        "cachorro2 = [0, 1, 1]\n",
        "cachorro3 = [0, 1, 1]"
      ]
    },
    {
      "cell_type": "code",
      "source": [
        "#Criando um dataset com os modelos\n",
        "dados = [porco1, porco2, porco3, cachorro1, cachorro2, cachorro3]\n",
        "\n",
        "#criando as marcações\n",
        "marcacoes = [1, 1, 1, -1, -1, -1]\n",
        "\n",
        "misterioso1 = [1, 1, 1]\n",
        "misterioso2 = [1, 0, 0]\n",
        "misterioso3 = [0, 0, 1]\n",
        "testes = [misterioso1, misterioso2, misterioso3]\n",
        "#criando modelo\n",
        "modelo = MultinomialNB()\n",
        "\n",
        "#treinando modelo\n",
        "modelo.fit(dados, marcacoes)\n",
        "\n",
        "#fazendo a predição\n",
        "modelo.predict(testes)\n",
        "marcacoes_teste = [-1,  1, -1]\n",
        "\n",
        "#Atribuindo a uma variavel\n",
        "resultado = modelo.predict(testes)\n",
        "print(resultado)\n",
        "\n",
        "#verificando o que errou e o que acertou\n",
        "diferencas = (resultado - marcacoes_teste)\n",
        "print(diferencas)\n",
        "\n",
        "#percorrendo as diferencias\n",
        "acertos = [d for d in diferencas if  d==0]\n",
        "total_de_acertos = len(acertos)\n",
        "total_de_elementos = len(testes)\n",
        "taxa_de_acertos = (total_de_acertos / total_de_elementos) * 100\n",
        "print(f'Total de acertos: {total_de_acertos}.\\nTotal de elementos: {total_de_elementos}.\\nTaxa de Acertos: {taxa_de_acertos} %.')"
      ],
      "metadata": {
        "colab": {
          "base_uri": "https://localhost:8080/"
        },
        "id": "b_i2hiyQLIz1",
        "outputId": "f6e3ac38-2a16-4937-c4fb-a0bddfb975b5"
      },
      "execution_count": null,
      "outputs": [
        {
          "output_type": "stream",
          "name": "stdout",
          "text": [
            "[-1  1 -1]\n",
            "[0 0 0]\n",
            "Total de acertos: 3.\n",
            "Total de elementos: 3.\n",
            "Taxa de Acertos: 100.0 %.\n"
          ]
        }
      ]
    },
    {
      "cell_type": "markdown",
      "source": [
        "## Parte ll"
      ],
      "metadata": {
        "id": "SqnioQ9_WjYu"
      }
    },
    {
      "cell_type": "code",
      "source": [
        "#acessou_home, acessou_como_funciona, acessou_contato, comprou\n",
        "#Esse código utiliza o csv acesso.csv\n",
        "import pandas as pd\n",
        "#função para carregar os acessos\n",
        "\n",
        "def carregar_acessos():\n",
        "    X = []\n",
        "    Y = []\n",
        "    arquivo = pd.read_csv('acesso.csv')\n",
        "    for (acessou_home, acessou_como_funciona, acessou_contato, comprou) in arquivo.values:\n",
        "       X.append([acessou_home, acessou_como_funciona, acessou_contato])\n",
        "       Y.append(comprou)\n",
        "\n",
        "    return X, Y\n",
        "\n",
        "#testando função\n",
        "X, Y = carregar_acessos()\n",
        "Y\n"
      ],
      "metadata": {
        "colab": {
          "base_uri": "https://localhost:8080/"
        },
        "id": "f8VU0e45RVFt",
        "outputId": "c3e441a4-6bb6-4857-945b-c26821bdbe16"
      },
      "execution_count": null,
      "outputs": [
        {
          "output_type": "execute_result",
          "data": {
            "text/plain": [
              "[0,\n",
              " 0,\n",
              " 0,\n",
              " 0,\n",
              " 0,\n",
              " 1,\n",
              " 0,\n",
              " 1,\n",
              " 0,\n",
              " 1,\n",
              " 1,\n",
              " 1,\n",
              " 0,\n",
              " 0,\n",
              " 0,\n",
              " 0,\n",
              " 0,\n",
              " 0,\n",
              " 0,\n",
              " 0,\n",
              " 0,\n",
              " 0,\n",
              " 0,\n",
              " 0,\n",
              " 1,\n",
              " 1,\n",
              " 1,\n",
              " 1,\n",
              " 0,\n",
              " 0,\n",
              " 0,\n",
              " 1,\n",
              " 0,\n",
              " 1,\n",
              " 1,\n",
              " 1,\n",
              " 1,\n",
              " 0,\n",
              " 0,\n",
              " 1,\n",
              " 0,\n",
              " 0,\n",
              " 0,\n",
              " 1,\n",
              " 0,\n",
              " 0,\n",
              " 1,\n",
              " 1,\n",
              " 0,\n",
              " 0,\n",
              " 0,\n",
              " 0,\n",
              " 1,\n",
              " 0,\n",
              " 1,\n",
              " 0,\n",
              " 1,\n",
              " 0,\n",
              " 1,\n",
              " 0,\n",
              " 1,\n",
              " 0,\n",
              " 0,\n",
              " 0,\n",
              " 1,\n",
              " 1,\n",
              " 0,\n",
              " 1,\n",
              " 1,\n",
              " 0,\n",
              " 0,\n",
              " 0,\n",
              " 0,\n",
              " 0,\n",
              " 0,\n",
              " 0,\n",
              " 0,\n",
              " 0,\n",
              " 0,\n",
              " 1,\n",
              " 0,\n",
              " 0,\n",
              " 0,\n",
              " 1,\n",
              " 1,\n",
              " 0,\n",
              " 0,\n",
              " 0,\n",
              " 0,\n",
              " 1,\n",
              " 1,\n",
              " 0,\n",
              " 0,\n",
              " 0,\n",
              " 0,\n",
              " 1,\n",
              " 0,\n",
              " 0,\n",
              " 0]"
            ]
          },
          "metadata": {},
          "execution_count": 4
        }
      ]
    },
    {
      "cell_type": "markdown",
      "source": [
        "## Parte lll"
      ],
      "metadata": {
        "id": "2DUMSFYYc35i"
      }
    },
    {
      "cell_type": "code",
      "source": [
        "#separando base de treino e teste\n",
        "#separando 90 % para treino\n",
        "treino_dados = X[:90]\n",
        "treino_marcacoes = Y[:90]\n",
        "#separando 90 % para teste\n",
        "teste_dados = X[-9:]\n",
        "teste_marcacoes = Y[-9:]\n",
        "\n",
        "#criando o modelo\n",
        "modelo = MultinomialNB()\n",
        "\n",
        "#treinando modelo\n",
        "modelo.fit(treino_dados,treino_marcacoes)\n",
        "\n",
        "print(modelo.predict([[1,0,1],[0,1,0],[1,0,0],[1,1,0]]))\n",
        "\n",
        "resultado = modelo.predict(teste_dados)\n",
        "diferencas = resultado - teste_marcacoes\n",
        "acertos = [d for d in diferencas if  d==0]\n",
        "total_de_acertos = len(acertos)\n",
        "total_de_elementos = len(teste_dados)\n",
        "taxa_de_acertos = (total_de_acertos / total_de_elementos) * 100\n",
        "print(f'Total de acertos: {total_de_acertos}.\\nTotal de elementos: {total_de_elementos}.\\nTaxa de Acertos: {taxa_de_acertos} %.')"
      ],
      "metadata": {
        "colab": {
          "base_uri": "https://localhost:8080/"
        },
        "id": "nhM0yfYmc63g",
        "outputId": "4d9f10b3-a949-47f6-fd5b-aca36d8490fb"
      },
      "execution_count": 6,
      "outputs": [
        {
          "output_type": "stream",
          "name": "stdout",
          "text": [
            "[1 0 0 0]\n",
            "Total de acertos: 8.\n",
            "Total de elementos: 9.\n",
            "Taxa de Acertos: 88.88888888888889 %.\n"
          ]
        }
      ]
    },
    {
      "cell_type": "markdown",
      "source": [
        "# Parte IV"
      ],
      "metadata": {
        "id": "PJvahUBvRm14"
      }
    },
    {
      "cell_type": "code",
      "source": [
        "# Classificando as buscas\n",
        "# Importando csv\n",
        "df = pd.read_csv(\"buscas.csv\")\n",
        "# criando df com apenas as colunas necessárias\n",
        "Y_df = df['comprou']\n",
        "X_df = df[['home','busca','logado']]\n",
        "\n",
        "#Função que transforma variavel categórica em binária\n",
        "Xdummies_df = pd.get_dummies(X_df)\n",
        "Ydummies_df = Y_df\n",
        "\n",
        "#transformando df em arrays\n",
        "X = Xdummies_df.values\n",
        "Y = Ydummies_df.values\n",
        "\n",
        "# a eficacia do algoritmo que chuta tudo 0 e 1\n",
        "acerto_de_um = sum(Y)\n",
        "acerto_de_zero = len(Y) - acerto_de_um\n",
        "taxa_de_acerto_base = 100 * max(acerto_de_um,acerto_de_zero) / len(Y)\n",
        "\n",
        "\n",
        "#separando dados de treino 90%\n",
        "tamanho_de_treino = int(0.9 * len(Y))\n",
        "\n",
        "#separando os outros 10%\n",
        "tamanho_de_teste = len(Y) - tamanho_de_treino\n",
        "\n",
        "#definindo x e y de treino - 90%\n",
        "treino_dados = X[:tamanho_de_treino]\n",
        "treino_marcacoes = Y[:tamanho_de_treino]\n",
        "\n",
        "#definindo x e y de teste - 10%\n",
        "teste_dados = X[-tamanho_de_teste:]\n",
        "teste_marcacoes = Y[-tamanho_de_teste:]\n",
        "\n",
        "#treinando modelo\n",
        "modelo = MultinomialNB()\n",
        "modelo.fit(treino_dados, treino_marcacoes)\n",
        "\n",
        "resultado = modelo.predict(teste_dados)\n",
        "diferencas = resultado - teste_marcacoes\n",
        "acertos = [d for d in diferencas if  d==0]\n",
        "total_de_acertos = len(acertos)\n",
        "total_de_elementos = len(teste_dados)\n",
        "taxa_de_acertos = (total_de_acertos / total_de_elementos) * 100\n",
        "print(f'Total de acertos: {total_de_acertos}.\\nTotal de elementos: {total_de_elementos}.\\nTaxa de Acertos: {taxa_de_acertos} %.\\nTaxa de acerto base: {taxa_de_acerto_base}%.')"
      ],
      "metadata": {
        "colab": {
          "base_uri": "https://localhost:8080/"
        },
        "id": "ZHU9BtbARqO4",
        "outputId": "afd1a355-3f85-43fd-8062-97f0265ed157"
      },
      "execution_count": 51,
      "outputs": [
        {
          "output_type": "stream",
          "name": "stdout",
          "text": [
            "Total de acertos: 6.\n",
            "Total de elementos: 8.\n",
            "Taxa de Acertos: 75.0 %.\n",
            "Taxa de acerto base: 64.0%.\n"
          ]
        }
      ]
    },
    {
      "cell_type": "markdown",
      "source": [
        "# Parte V"
      ],
      "metadata": {
        "id": "ekMPEA8wkWTz"
      }
    },
    {
      "cell_type": "code",
      "source": [
        ""
      ],
      "metadata": {
        "colab": {
          "base_uri": "https://localhost:8080/"
        },
        "id": "eNhojpiDZUiW",
        "outputId": "688365e8-269d-470d-cdd0-420ef9e5390c"
      },
      "execution_count": 48,
      "outputs": [
        {
          "output_type": "execute_result",
          "data": {
            "text/plain": [
              "27"
            ]
          },
          "metadata": {},
          "execution_count": 48
        }
      ]
    },
    {
      "cell_type": "code",
      "source": [
        ""
      ],
      "metadata": {
        "id": "M0YKJRvYkfGk"
      },
      "execution_count": null,
      "outputs": []
    }
  ]
}