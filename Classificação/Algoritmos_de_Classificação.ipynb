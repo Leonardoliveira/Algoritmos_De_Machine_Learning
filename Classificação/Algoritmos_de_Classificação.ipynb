{
  "nbformat": 4,
  "nbformat_minor": 0,
  "metadata": {
    "colab": {
      "name": "Algoritmos de Classificação.ipynb",
      "provenance": [],
      "collapsed_sections": [],
      "authorship_tag": "ABX9TyOtL+KaI5UaGrxjHlzUu+qt",
      "include_colab_link": true
    },
    "kernelspec": {
      "name": "python3",
      "display_name": "Python 3"
    },
    "language_info": {
      "name": "python"
    }
  },
  "cells": [
    {
      "cell_type": "markdown",
      "metadata": {
        "id": "view-in-github",
        "colab_type": "text"
      },
      "source": [
        "<a href=\"https://colab.research.google.com/github/Leonardoliveira/Algoritmos_De_Machine_Learning/blob/main/Algoritmos_de_Classifica%C3%A7%C3%A3o.ipynb\" target=\"_parent\"><img src=\"https://colab.research.google.com/assets/colab-badge.svg\" alt=\"Open In Colab\"/></a>"
      ]
    },
    {
      "cell_type": "markdown",
      "source": [
        "# Algoritmos de classificação"
      ],
      "metadata": {
        "id": "gJ4pnFiUK-QU"
      }
    },
    {
      "cell_type": "code",
      "source": [
        "#Importando as bibliotecas\n",
        "from sklearn.naive_bayes import MultinomialNB"
      ],
      "metadata": {
        "id": "v6_hHMUQMjwA"
      },
      "execution_count": 9,
      "outputs": []
    },
    {
      "cell_type": "code",
      "execution_count": 10,
      "metadata": {
        "id": "C4VUz4pmKWri"
      },
      "outputs": [],
      "source": [
        "#Criando os exemplos de aprendizado\n",
        "#Se é gordinho? Tem perna curta? Late?\n",
        "porco1 = [1, 1, 1]\n",
        "porco2 = [1, 1, 0]\n",
        "porco3 = [1, 1, 0]\n",
        "cachorro1 = [1, 1, 1]\n",
        "cachorro2 = [0, 1, 1]\n",
        "cachorro3 = [0, 1, 1]"
      ]
    },
    {
      "cell_type": "code",
      "source": [
        "#Criando um dataset com os modelos\n",
        "dados = [porco1, porco2, porco3, cachorro1, cachorro2, cachorro3]\n",
        "\n",
        "#criando as marcações\n",
        "marcacoes = [1, 1, 1, -1, -1, -1]\n",
        "\n",
        "misterioso1 = [1, 1, 1]\n",
        "misterioso2 = [1, 0, 0]\n",
        "misterioso3 = [0, 0, 1]\n",
        "testes = [misterioso1, misterioso2, misterioso3]\n",
        "#criando modelo\n",
        "modelo = MultinomialNB()\n",
        "\n",
        "#treinando modelo\n",
        "modelo.fit(dados, marcacoes)\n",
        "\n",
        "#fazendo a predição\n",
        "modelo.predict(testes)\n",
        "marcacoes_teste = [-1,  1, -1]\n",
        "\n",
        "#Atribuindo a uma variavel\n",
        "resultado = modelo.predict(testes)\n",
        "print(resultado)\n",
        "\n",
        "#verificando o que errou e o que acertou\n",
        "diferencas = (resultado - marcacoes_teste)\n",
        "print(diferencas)\n",
        "\n",
        "#percorrendo as diferencias\n",
        "acertos = [d for d in diferencas if  d==0]\n",
        "total_de_acertos = len(acertos)\n",
        "total_de_elementos = len(testes)\n",
        "taxa_de_acertos = (total_de_acertos / total_de_elementos) * 100\n",
        "print(f'Total de acertos: {total_de_acertos}.\\nTotal de elementos: {total_de_elementos}.\\nTaxa de Acertos: {taxa_de_acertos} %.')"
      ],
      "metadata": {
        "colab": {
          "base_uri": "https://localhost:8080/"
        },
        "id": "b_i2hiyQLIz1",
        "outputId": "488b9182-9850-47ad-a7bc-250e6e51e43d"
      },
      "execution_count": 35,
      "outputs": [
        {
          "output_type": "stream",
          "name": "stdout",
          "text": [
            "[-1  1 -1]\n",
            "[0 0 0]\n",
            "Total de acertos: 3.\n",
            "Total de elementos: 3.\n",
            "Taxa de Acertos: 100.0 %.\n"
          ]
        }
      ]
    },
    {
      "cell_type": "markdown",
      "source": [
        "## Parte ll"
      ],
      "metadata": {
        "id": "SqnioQ9_WjYu"
      }
    },
    {
      "cell_type": "code",
      "source": [
        "#acessou_home, acessou_como_funciona, acessou_contato, comprou\n",
        "#Esse código utiliza o csv acesso.csv\n",
        "import pandas as pd\n",
        "#função para carregar os acessos\n",
        "\n",
        "def carregar_acessos():\n",
        "    X = []\n",
        "    Y = []\n",
        "    arquivo = pd.read_csv('acesso.csv')\n",
        "    for (acessou_home, acessou_como_funciona, acessou_contato, comprou) in arquivo.values:\n",
        "       X.append([acessou_home, acessou_como_funciona, acessou_contato])\n",
        "       Y.append(comprou)\n",
        "\n",
        "    return X, Y\n",
        "\n",
        "#testando função\n",
        "X, Y = carregar_acessos()\n",
        "Y\n"
      ],
      "metadata": {
        "colab": {
          "base_uri": "https://localhost:8080/"
        },
        "id": "f8VU0e45RVFt",
        "outputId": "39919aaa-fdf6-4ae0-fd11-f2f040531bfb"
      },
      "execution_count": 43,
      "outputs": [
        {
          "output_type": "execute_result",
          "data": {
            "text/plain": [
              "[0,\n",
              " 0,\n",
              " 0,\n",
              " 0,\n",
              " 0,\n",
              " 1,\n",
              " 0,\n",
              " 1,\n",
              " 0,\n",
              " 1,\n",
              " 1,\n",
              " 1,\n",
              " 0,\n",
              " 0,\n",
              " 0,\n",
              " 0,\n",
              " 0,\n",
              " 0,\n",
              " 0,\n",
              " 0,\n",
              " 0,\n",
              " 0,\n",
              " 0,\n",
              " 0,\n",
              " 1,\n",
              " 1,\n",
              " 1,\n",
              " 1,\n",
              " 0,\n",
              " 0,\n",
              " 0,\n",
              " 1,\n",
              " 0,\n",
              " 1,\n",
              " 1,\n",
              " 1,\n",
              " 1,\n",
              " 0,\n",
              " 0,\n",
              " 1,\n",
              " 0,\n",
              " 0,\n",
              " 0,\n",
              " 1,\n",
              " 0,\n",
              " 0,\n",
              " 1,\n",
              " 1,\n",
              " 0,\n",
              " 0,\n",
              " 0,\n",
              " 0,\n",
              " 1,\n",
              " 0,\n",
              " 1,\n",
              " 0,\n",
              " 1,\n",
              " 0,\n",
              " 1,\n",
              " 0,\n",
              " 1,\n",
              " 0,\n",
              " 0,\n",
              " 0,\n",
              " 1,\n",
              " 1,\n",
              " 0,\n",
              " 1,\n",
              " 1,\n",
              " 0,\n",
              " 0,\n",
              " 0,\n",
              " 0,\n",
              " 0,\n",
              " 0,\n",
              " 0,\n",
              " 0,\n",
              " 0,\n",
              " 0,\n",
              " 1,\n",
              " 0,\n",
              " 0,\n",
              " 0,\n",
              " 1,\n",
              " 1,\n",
              " 0,\n",
              " 0,\n",
              " 0,\n",
              " 0,\n",
              " 1,\n",
              " 1,\n",
              " 0,\n",
              " 0,\n",
              " 0,\n",
              " 0,\n",
              " 1,\n",
              " 0,\n",
              " 0,\n",
              " 0]"
            ]
          },
          "metadata": {},
          "execution_count": 43
        }
      ]
    },
    {
      "cell_type": "markdown",
      "source": [
        "## Parte lll"
      ],
      "metadata": {
        "id": "2DUMSFYYc35i"
      }
    },
    {
      "cell_type": "code",
      "source": [
        "#separando base de treino e teste\n",
        "#separando 90 % para treino\n",
        "treino_dados = X[:90]\n",
        "treino_marcacoes = Y[:90]\n",
        "#separando 90 % para teste\n",
        "teste_dados = X[-9:]\n",
        "teste_marcacoes = Y[-9:]\n",
        "\n",
        "#criando o modelo\n",
        "modelo = MultinomialNB()\n",
        "\n",
        "#treinando modelo\n",
        "modelo.fit(treino_dados,treino_marcacoes)\n",
        "\n",
        "print(modelo.predict([[1,0,1],[0,1,0],[1,0,0],[1,1,0]]))\n",
        "\n",
        "resultado = modelo.predict(teste_dados)\n",
        "diferencas = resultado - teste_marcacoes\n",
        "acertos = [d for d in diferencas if  d==0]\n",
        "total_de_acertos = len(acertos)\n",
        "total_de_elementos = len(teste_dados)\n",
        "taxa_de_acertos = (total_de_acertos / total_de_elementos) * 100\n",
        "print(f'Total de acertos: {total_de_acertos}.\\nTotal de elementos: {total_de_elementos}.\\nTaxa de Acertos: {taxa_de_acertos} %.')"
      ],
      "metadata": {
        "colab": {
          "base_uri": "https://localhost:8080/"
        },
        "id": "nhM0yfYmc63g",
        "outputId": "58a41ab8-7012-41e8-952f-afeeb8ae2d3b"
      },
      "execution_count": 58,
      "outputs": [
        {
          "output_type": "stream",
          "name": "stdout",
          "text": [
            "[1 0 0 0]\n",
            "Total de acertos: 8.\n",
            "Total de elementos: 9.\n",
            "Taxa de Acertos: 88.88888888888889 %.\n"
          ]
        }
      ]
    }
  ]
}